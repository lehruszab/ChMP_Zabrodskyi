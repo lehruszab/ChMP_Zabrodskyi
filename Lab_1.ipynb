{
 "cells": [
  {
   "cell_type": "code",
   "execution_count": 1,
   "id": "b3aad43e",
   "metadata": {},
   "outputs": [
    {
     "name": "stdout",
     "output_type": "stream",
     "text": [
      "Перша рівність точніше\n"
     ]
    }
   ],
   "source": [
    "import math\n",
    "\n",
    "x1 = 4.69\n",
    "x2 = 0.095\n",
    "x1_1 = math.sqrt(22)\n",
    "x2_2 = 2/21\n",
    "def f (x1, x1_1, x2, x2_2):\n",
    "    dx1 = abs((x1 - x1_1)/ x1)\n",
    "    dx2 = abs((x2 - x2_2)/x2)\n",
    "    if (dx1>dx2):\n",
    "        print (\"Друга рівність точніше\")\n",
    "    else: \n",
    "        print(\"Перша рівність точніше\")\n",
    "f(x1,x1_1,x2,x2_2)\n"
   ]
  },
  {
   "cell_type": "code",
   "execution_count": null,
   "id": "795ad052",
   "metadata": {},
   "outputs": [],
   "source": []
  }
 ],
 "metadata": {
  "kernelspec": {
   "display_name": "Python 3 (ipykernel)",
   "language": "python",
   "name": "python3"
  },
  "language_info": {
   "codemirror_mode": {
    "name": "ipython",
    "version": 3
   },
   "file_extension": ".py",
   "mimetype": "text/x-python",
   "name": "python",
   "nbconvert_exporter": "python",
   "pygments_lexer": "ipython3",
   "version": "3.9.13"
  }
 },
 "nbformat": 4,
 "nbformat_minor": 5
}
