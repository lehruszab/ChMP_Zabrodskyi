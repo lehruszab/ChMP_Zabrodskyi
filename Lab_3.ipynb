{
 "cells": [
  {
   "cell_type": "code",
   "execution_count": 2,
   "id": "afae31f9",
   "metadata": {},
   "outputs": [
    {
     "name": "stdout",
     "output_type": "stream",
     "text": [
      "Solving the equation by Newton*s method x =  -2.4887189408251444\n"
     ]
    }
   ],
   "source": [
    "import numpy as np\n",
    "import math\n",
    "from scipy.misc import derivative\n",
    "\n",
    "def f(x):\n",
    "    return x**4 + 2*x**3+2*x**2+6*x-5\n",
    "\n",
    "a = -2.\n",
    "b = -1/2\n",
    "eps = 0.001\n",
    "\n",
    "def nuton(a,b,eps):\n",
    "    df2 = derivative(f, b, n = 2)\n",
    "    if (f(b)*df2>0):\n",
    "        xi = b\n",
    "    else:\n",
    "        xi = a\n",
    "    df = derivative(f,xi, n= 1)\n",
    "    xi_1 = xi - f(xi)/df\n",
    "    while (abs(xi_1 - xi)>eps): \n",
    "        xi = xi_1\n",
    "        xi_1 = xi - f(xi)/df\n",
    "    return print ('Solving the equation by Newton*s method x = ', xi_1)\n",
    "nuton (a,b,eps)\n"
   ]
  },
  {
   "cell_type": "code",
   "execution_count": 3,
   "id": "215b8ae7",
   "metadata": {},
   "outputs": [
    {
     "name": "stdout",
     "output_type": "stream",
     "text": [
      "Solving the equation by the combined method x =  -2.489146515762469\n"
     ]
    }
   ],
   "source": [
    "import numpy as np\n",
    "import math\n",
    "from scipy.misc import derivative\n",
    "\n",
    "def f(x):\n",
    "    return x**4 + 2*x**3+2*x**2+6*x-5\n",
    "\n",
    "def komb(a,b,eps):\n",
    "    if (derivative(f, a, n = 1)*derivative(f, a, n = 2)>0):\n",
    "        a0 = a\n",
    "        b0 = b\n",
    "    else:\n",
    "        a0 = b\n",
    "        b0 = a\n",
    "    ai = a0\n",
    "    bi = b0\n",
    "    while abs(ai-bi)>eps:\n",
    "        ai_1 = ai -f(ai)*(bi - ai)/(f(bi) - f(ai))\n",
    "        bi_1 = bi - f(bi)/derivative(f,bi, n= 1)\n",
    "        ai = ai_1\n",
    "        bi = bi_1\n",
    "        x = (ai_1+bi_1)/2\n",
    "    return print('Solving the equation by the combined method x = ', x)\n",
    "komb(-2,-1/2,0.0001)\n"
   ]
  },
  {
   "cell_type": "code",
   "execution_count": null,
   "id": "c49cf37d",
   "metadata": {},
   "outputs": [],
   "source": []
  }
 ],
 "metadata": {
  "kernelspec": {
   "display_name": "Python 3 (ipykernel)",
   "language": "python",
   "name": "python3"
  },
  "language_info": {
   "codemirror_mode": {
    "name": "ipython",
    "version": 3
   },
   "file_extension": ".py",
   "mimetype": "text/x-python",
   "name": "python",
   "nbconvert_exporter": "python",
   "pygments_lexer": "ipython3",
   "version": "3.9.13"
  }
 },
 "nbformat": 4,
 "nbformat_minor": 5
}
