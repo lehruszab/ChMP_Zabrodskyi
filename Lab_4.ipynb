{
 "cells": [
  {
   "cell_type": "code",
   "execution_count": 1,
   "id": "2f411d2d",
   "metadata": {},
   "outputs": [
    {
     "name": "stdout",
     "output_type": "stream",
     "text": [
      "[[ 1  2]\n",
      " [ 4 -1]]\n",
      "[[ 2 -3]\n",
      " [-4  1]]\n",
      "[[-1  5]\n",
      " [ 8 -2]]\n"
     ]
    }
   ],
   "source": [
    "import numpy as np\n",
    "\n",
    "m_sqr_arrA = np.array([[1, 2], [4, -1]]) \n",
    "print(m_sqr_arrA)\n",
    "\n",
    "m_sqr_arrB = np.array([[2, -3], [-4, 1]])\n",
    "print(m_sqr_arrB)\n",
    "\n",
    "m_sqr_arrR = m_sqr_arrA-m_sqr_arrB\n",
    "print(m_sqr_arrR)\n"
   ]
  },
  {
   "cell_type": "code",
   "execution_count": 2,
   "id": "006e3a31",
   "metadata": {},
   "outputs": [
    {
     "name": "stdout",
     "output_type": "stream",
     "text": [
      "[[1 0 4]\n",
      " [0 1 0]\n",
      " [1 4 1]]\n"
     ]
    }
   ],
   "source": [
    "import numpy as np\n",
    "\n",
    "m_sqr_arr = np.array ([[-1, 0, 2],[0, 1, 0],[1, 2, -1]])\n",
    "m_sqr_arrR = m_sqr_arr * m_sqr_arr\n",
    "\n",
    "print(m_sqr_arrR)\n"
   ]
  },
  {
   "cell_type": "code",
   "execution_count": 3,
   "id": "846c012c",
   "metadata": {},
   "outputs": [
    {
     "name": "stdout",
     "output_type": "stream",
     "text": [
      "[[-9 13]\n",
      " [15  4]]\n"
     ]
    }
   ],
   "source": [
    "import numpy as np \n",
    "\n",
    "m_sqr_arrA = np.array ([[3,5],[6,-1]])\n",
    "m_sqr_arrB = np.array ([[2,1],[-3,2]])\n",
    "m_sqr_arrR = m_sqr_arrA.dot(m_sqr_arrB)\n",
    "print(m_sqr_arrR)\n"
   ]
  },
  {
   "cell_type": "code",
   "execution_count": 4,
   "id": "abc6fabe",
   "metadata": {},
   "outputs": [
    {
     "name": "stdout",
     "output_type": "stream",
     "text": [
      "[[2 3 4]\n",
      " [1 0 6]\n",
      " [7 8 9]]\n"
     ]
    },
    {
     "data": {
      "text/plain": [
       "35.00000000000001"
      ]
     },
     "execution_count": 4,
     "metadata": {},
     "output_type": "execute_result"
    }
   ],
   "source": [
    "m_sqr_arr = np.array ([[2,3,4],[1,0,6],[7,8,9]])\n",
    "print(m_sqr_arr)\n",
    "np.linalg.det(m_sqr_arr)\n"
   ]
  },
  {
   "cell_type": "code",
   "execution_count": 5,
   "id": "c56e1dbe",
   "metadata": {},
   "outputs": [
    {
     "name": "stdout",
     "output_type": "stream",
     "text": [
      "[[ 1  2  3  4]\n",
      " [-2  1 -4  3]\n",
      " [ 3 -4 -1  2]\n",
      " [ 4  3 -2 -1]]\n"
     ]
    },
    {
     "data": {
      "text/plain": [
       "900.0000000000009"
      ]
     },
     "execution_count": 5,
     "metadata": {},
     "output_type": "execute_result"
    }
   ],
   "source": [
    "m_sqr_arr = np.array ([[1,2,3,4],[-2,1,-4,3],[3,-4,-1,2],[4,3,-2,-1]])\n",
    "print(m_sqr_arr)\n",
    "np.linalg.det(m_sqr_arr)\n"
   ]
  },
  {
   "cell_type": "code",
   "execution_count": 6,
   "id": "742f5942",
   "metadata": {},
   "outputs": [
    {
     "name": "stdout",
     "output_type": "stream",
     "text": [
      "[[ 1. -2.  7.]\n",
      " [ 0.  1. -2.]\n",
      " [ 0.  0.  1.]]\n"
     ]
    }
   ],
   "source": [
    "m_sqr_arr = np.array([[1,2,-3],[0,1,2],[0,0,1]])\n",
    "a_inv = np.linalg.inv(m_sqr_arr)\n",
    "print(a_inv)\n"
   ]
  },
  {
   "cell_type": "code",
   "execution_count": 7,
   "id": "b55e8920",
   "metadata": {},
   "outputs": [
    {
     "name": "stdout",
     "output_type": "stream",
     "text": [
      "2\n"
     ]
    }
   ],
   "source": [
    "a = np.array([[1,2,3,4],[3,-1,2,5],[1,2,3,4],[1,3,4,5]])\n",
    "rank = np.linalg.matrix_rank(a)\n",
    "print(rank)\n"
   ]
  },
  {
   "cell_type": "code",
   "execution_count": 8,
   "id": "7b3d8565",
   "metadata": {},
   "outputs": [
    {
     "name": "stdout",
     "output_type": "stream",
     "text": [
      "A= [[ 14   4   6]\n",
      " [  5  -3   2]\n",
      " [ 10 -11   5]]\n",
      "B= [30 15 36]\n",
      "[[-0.09722222  1.19444444 -0.36111111]\n",
      " [ 0.06944444 -0.13888889 -0.02777778]\n",
      " [ 0.34722222 -2.69444444  0.86111111]]\n",
      "X= [ 2. -1.  1.]\n"
     ]
    }
   ],
   "source": [
    "#Матричний метод\n",
    "\n",
    "A = np.array([[14,4,6],[5,-3,2],[10,-11,5]])\n",
    "B = np.array([30,15,36])\n",
    "print('A=', A)\n",
    "print('B=',B)\n",
    "A_inv = np.linalg.inv(A)\n",
    "print(A_inv)\n",
    "X = A_inv.dot(B)\n",
    "print('X=',X)\n"
   ]
  },
  {
   "cell_type": "code",
   "execution_count": 9,
   "id": "833b9fc3",
   "metadata": {},
   "outputs": [
    {
     "name": "stdout",
     "output_type": "stream",
     "text": [
      "A= [[ 14   4   6]\n",
      " [  5  -3   2]\n",
      " [ 10 -11   5]]\n",
      "B= [30 15 36]\n",
      "Детермінант матриці =  -72.0\n",
      "Розв*язуємо систему\n",
      "x_m= [[ 30   4   6]\n",
      " [ 15  -3   2]\n",
      " [ 36 -11   5]]\n",
      "y_m= [[14 30  6]\n",
      " [ 5 15  2]\n",
      " [10 36  5]]\n",
      "z_m= [[ 14   4  30]\n",
      " [  5  -3  15]\n",
      " [ 10 -11  36]]\n",
      "X =  2.0\n",
      "Y= -1.0\n",
      "Z= 1.0\n"
     ]
    }
   ],
   "source": [
    "a = np.array([[14,4,6],[5,-3,2],[10,-11,5]])\n",
    "print('A=',a)\n",
    "b = np.array([30,15,36])\n",
    "print('B=',b)\n",
    "\n",
    "def kramer (a, b):\n",
    "    a_det = np.linalg.det(A)\n",
    "    print('Детермінант матриці = ', a_det)\n",
    "    if (a_det != 0):\n",
    "        print ('Розв*язуємо систему')\n",
    "        \n",
    "        x_m = np.array(a)\n",
    "        x_m[:, 0] = b \n",
    "        print('x_m=', x_m)\n",
    "        y_m = np.array(a)\n",
    "        y_m[:, 1] = b \n",
    "        print('y_m=',y_m)\n",
    "\n",
    "        z_m = np.array(a)\n",
    "        z_m[:, 2] = b \n",
    "        print('z_m=',z_m)\n",
    "\n",
    "        x = np.linalg.det(x_m) / a_det\n",
    "        y = np.linalg.det(y_m) / a_det\n",
    "        z = np.linalg.det(z_m) / a_det\n",
    "        print('X = ', round(x,5))\n",
    "\n",
    "        print('Y=', round(y,5))\n",
    "\n",
    "        print('Z=', round(z,5))\n",
    "    else:\n",
    "        print('Розв*язків немає')\n",
    "kramer(a,b)\n"
   ]
  },
  {
   "cell_type": "code",
   "execution_count": 10,
   "id": "df25dd45",
   "metadata": {},
   "outputs": [
    {
     "name": "stdout",
     "output_type": "stream",
     "text": [
      "N = 4\n",
      "M = 4\n",
      "3 0 0 1 \n",
      "4 5 8 4 \n",
      "0 9 1 7 \n",
      "9 9 2 9 \n",
      "Найменше середнє число з стовпців 1.0\n"
     ]
    }
   ],
   "source": [
    "#2\n",
    "\n",
    "import random \n",
    "\n",
    "n=int(input(\"N = \"))\n",
    "m=int(input(\"M = \"))    \n",
    "A = np.array([[random.randrange(0,10) for y in range(m)] for x in range(n)])\n",
    "\n",
    "for x in range (m):\n",
    "    for y in range (n):\n",
    "        print (A[y][x], end=' ')\n",
    "    print()\n",
    "    \n",
    "result = 0\n",
    "sredne = 10\n",
    "for x in range (m):\n",
    "    for y in range (n):\n",
    "        result = (A[y][x]) + result\n",
    "    result = result / n\n",
    "    if(result < sredne):\n",
    "        sredne = result\n",
    "print(\"Найменше середнє число з стовпців\", sredne)\n",
    "\n"
   ]
  },
  {
   "cell_type": "code",
   "execution_count": null,
   "id": "5c5e862e",
   "metadata": {},
   "outputs": [],
   "source": []
  }
 ],
 "metadata": {
  "kernelspec": {
   "display_name": "Python 3 (ipykernel)",
   "language": "python",
   "name": "python3"
  },
  "language_info": {
   "codemirror_mode": {
    "name": "ipython",
    "version": 3
   },
   "file_extension": ".py",
   "mimetype": "text/x-python",
   "name": "python",
   "nbconvert_exporter": "python",
   "pygments_lexer": "ipython3",
   "version": "3.9.13"
  }
 },
 "nbformat": 4,
 "nbformat_minor": 5
}
