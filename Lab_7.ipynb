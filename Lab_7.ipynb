{
 "cells": [
  {
   "cell_type": "code",
   "execution_count": 1,
   "id": "6b5128f1",
   "metadata": {},
   "outputs": [
    {
     "name": "stdout",
     "output_type": "stream",
     "text": [
      "0.20000000000000018\n",
      "mas_1 =  [0.2560000000000002, 0.1629999999999998, 0.09800000000000031, 0.06099999999999994, 0.051000000000000156]\n",
      "mas_2= [-0.09300000000000042, -0.0649999999999995, -0.037000000000000366, -0.009999999999999787]\n",
      "mas_3= [0.028000000000000913, 0.027999999999999137, 0.02700000000000058]\n",
      "mas_4= [-1.7763568394002505e-15, -0.0009999999999985576]\n",
      "First derivative = 1.0254166666666604\n",
      "Second derivative = -2.3479166666665954\n"
     ]
    }
   ],
   "source": [
    "import numpy as np\n",
    "import math\n",
    "mas_x = [2.4,2.6,2.8,3.0,3.2,3.4]\n",
    "mas_y = [3.526,3.782,3.945,4.043,4.104,4.155]\n",
    "h = mas_x[1] - mas_x[0]\n",
    "print (h)\n",
    "mas_1 = [] \n",
    "mas_2 = []\n",
    "mas_3 = []\n",
    "mas_4 = []\n",
    "for i in range(len(mas_y)):\n",
    "    mas_1.append(mas_y[i] - mas_y[i-1])\n",
    "mas_1.pop (0)#вилучаємо нульовий елемент масиву\n",
    "print('mas_1 = ', mas_1)#cкінченні різниці 1-го порядку\n",
    "\n",
    "for j in range(len(mas_1)):\n",
    "    mas_2.append(mas_1[j] - mas_1[j-1])\n",
    "mas_2.pop (0)\n",
    "print('mas_2=',mas_2 )#cкінченні різниці 2-го порядку\n",
    "\n",
    "for k in range(len(mas_2)):\n",
    "    mas_3.append(mas_2[k] - mas_2[k-1])\n",
    "mas_3.pop (0)\n",
    "print('mas_3=',mas_3)#cкінченні різниці 3-го порядку\n",
    "\n",
    "for l in range(len(mas_3)):\n",
    "    mas_4.append(mas_3[l] - mas_3[l-1])\n",
    "mas_4.pop (0)\n",
    "print('mas_4=',mas_4)#cкінченні різниці 4-го порядку\n",
    "\n",
    "y1 = 1/ h * (mas_1[1] - (mas_2[1]/ 2) + (mas_3[1] /3) - (mas_4[1]/4))\n",
    "y2 = 1/ (h**2) * (mas_2[1] - mas_3[1] + 11/12*mas_4[1]) \n",
    "\n",
    "print ('First derivative =', y1)\n",
    "print ('Second derivative =', y2)    \n"
   ]
  },
  {
   "cell_type": "code",
   "execution_count": null,
   "id": "52962ee7",
   "metadata": {},
   "outputs": [],
   "source": []
  }
 ],
 "metadata": {
  "kernelspec": {
   "display_name": "Python 3 (ipykernel)",
   "language": "python",
   "name": "python3"
  },
  "language_info": {
   "codemirror_mode": {
    "name": "ipython",
    "version": 3
   },
   "file_extension": ".py",
   "mimetype": "text/x-python",
   "name": "python",
   "nbconvert_exporter": "python",
   "pygments_lexer": "ipython3",
   "version": "3.9.13"
  }
 },
 "nbformat": 4,
 "nbformat_minor": 5
}
